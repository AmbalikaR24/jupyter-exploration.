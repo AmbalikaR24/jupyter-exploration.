{
 "cells": [
  {
   "cell_type": "code",
   "execution_count": null,
   "id": "0b5f9e50",
   "metadata": {},
   "outputs": [],
   "source": [
    "In Jupyter Notebook, the content is organized into cells. Cells are the basic building blocks where you can write and execute code, add text in markdown format for documentation, or even embed images and multimedia. The two main types of cells in a Jupyter Notebook are:\n",
    "\n",
    "Code Cells:\n",
    "\n",
    "Code cells are where you write and execute your code. They are denoted by the \"In [ ]:\" prompt to the left of the cell.\n",
    "You can write code in the cell and execute it by pressing Shift + Enter or clicking the \"Run\" button in the toolbar.\n",
    "Code cells can contain code written in different programming languages supported by Jupyter, such as Python, R, Julia, and more, depending on the kernels you have installed.\n",
    "The output of the code, such as printed messages, plots, or errors, appears directly below the code cell after execution.\n",
    "The variables defined in one code cell are accessible in other code cells within the same notebook, allowing you to break your code into logical sections.\n",
    "Markdown Cells:\n",
    "\n",
    "Markdown cells allow you to write text, formatted using Markdown syntax, to document your code, explain concepts, provide instructions, or add any other explanatory text.\n",
    "To create a markdown cell, you simply change the cell type from \"Code\" to \"Markdown\" using the dropdown menu in the toolbar or by pressing Esc to enter command mode, then M for Markdown.\n",
    "Markdown cells support various text formatting options, such as headers, lists, links, images, tables, and more, making it easy to create rich documentation within your notebook.\n",
    "Markdown cells are rendered as formatted text when executed (by pressing Shift + Enter or clicking outside the cell), making them an effective way to intersperse explanations and commentary alongside your code.\n",
    "You can also embed LaTeX equations in markdown cells for displaying mathematical expressions."
   ]
  },
  {
   "cell_type": "code",
   "execution_count": 1,
   "id": "f3e8a2eb",
   "metadata": {},
   "outputs": [
    {
     "name": "stdout",
     "output_type": "stream",
     "text": [
      "Hello, World!\n"
     ]
    }
   ],
   "source": [
    "print(\"Hello, World!\")"
   ]
  },
  {
   "cell_type": "code",
   "execution_count": 2,
   "id": "af117fe7",
   "metadata": {},
   "outputs": [
    {
     "data": {
      "text/plain": [
       "'My first markdown cell in Jupyter'"
      ]
     },
     "execution_count": 2,
     "metadata": {},
     "output_type": "execute_result"
    }
   ],
   "source": [
    "\"My first markdown cell in Jupyter\""
   ]
  },
  {
   "cell_type": "code",
   "execution_count": null,
   "id": "50831c6c",
   "metadata": {},
   "outputs": [],
   "source": []
  }
 ],
 "metadata": {
  "kernelspec": {
   "display_name": "Python 3 (ipykernel)",
   "language": "python",
   "name": "python3"
  },
  "language_info": {
   "codemirror_mode": {
    "name": "ipython",
    "version": 3
   },
   "file_extension": ".py",
   "mimetype": "text/x-python",
   "name": "python",
   "nbconvert_exporter": "python",
   "pygments_lexer": "ipython3",
   "version": "3.11.5"
  }
 },
 "nbformat": 4,
 "nbformat_minor": 5
}
